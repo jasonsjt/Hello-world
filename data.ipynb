{
  "nbformat": 4,
  "nbformat_minor": 0,
  "metadata": {
    "colab": {
      "name": "data.ipynb",
      "provenance": [],
      "collapsed_sections": [],
      "authorship_tag": "ABX9TyOeSds1zrDVaOfRHnv9clrT",
      "include_colab_link": true
    },
    "kernelspec": {
      "name": "python3",
      "display_name": "Python 3"
    },
    "language_info": {
      "name": "python"
    }
  },
  "cells": [
    {
      "cell_type": "markdown",
      "metadata": {
        "id": "view-in-github",
        "colab_type": "text"
      },
      "source": [
        "<a href=\"https://colab.research.google.com/github/jasonsjt/Hello-world/blob/master/data.ipynb\" target=\"_parent\"><img src=\"https://colab.research.google.com/assets/colab-badge.svg\" alt=\"Open In Colab\"/></a>"
      ]
    },
    {
      "cell_type": "code",
      "metadata": {
        "id": "JzihuUpjEBHY"
      },
      "source": [
        "# LAB 1: Integer operation\n",
        "a = 1\n",
        "b = 2\n",
        "a + b\n"
      ],
      "execution_count": null,
      "outputs": []
    },
    {
      "cell_type": "code",
      "metadata": {
        "id": "Tqp-Ctv1FMVZ"
      },
      "source": [
        "# LAB 2: String operation\n",
        "# '' means it's string inside the ''\n",
        "a = '1'  \n",
        "b = '2'\n",
        "a + b"
      ],
      "execution_count": null,
      "outputs": []
    },
    {
      "cell_type": "code",
      "metadata": {
        "id": "0de_Xmy2FdVJ"
      },
      "source": [
        "# LAB 3: Datetime operation\n",
        "import datetime\n",
        "\n",
        "# Construct datetime from integer\n",
        "date1 = datetime.datetime(2021, 6, 30, 0, 0, 0)\n",
        "date2 = date1 + datetime.timedelta(days=1)\n",
        "print('From integer to datetime. ', date2) \n",
        "\n",
        "# Construct datetime from string\n",
        "date1 = datetime.datetime.strptime(\"2021-06-30\", \"%Y-%m-%d\")\n",
        "date2 = date1 + datetime.timedelta(days=1) \n",
        "print('From string to datetime. ', date2) "
      ],
      "execution_count": null,
      "outputs": []
    },
    {
      "cell_type": "code",
      "metadata": {
        "id": "07Xl8l3spPuM"
      },
      "source": [
        "# LAB 4: Datetime operation\n",
        "\n",
        "count1 = 1\n",
        "count2 = 2\n",
        "count3 = 'a'\n",
        "print(count1 + count2) # This will work\n",
        "print(count1 + count3) # This doesn't work, program stop.\n",
        "print(count1 * count2) # This won't be exeuted.  "
      ],
      "execution_count": null,
      "outputs": []
    },
    {
      "cell_type": "code",
      "metadata": {
        "id": "Y1f2WSSbdC_s"
      },
      "source": [
        "# LAB 5: HTTP GET\n",
        "import requests  # We use a special package in Python\n",
        "from requests.auth import HTTPDigestAuth  # This is used to do digest authentication.\n",
        "\n",
        "ip = '60.251.25.43' \n",
        "account = 'Jason9391'\n",
        "password = 'Jason9391'\n",
        "cgi = '/cgi-bin/admin/getparam.cgi'\n",
        "url = 'http://' + ip + cgi\n",
        "r = requests.get(url, auth=HTTPDigestAuth(account, password)) # Easier then open my browser.        \n",
        "print(r.text[:1000]) # Because the result is quite long, so I only show the first 1000 char\n",
        "                     # you can remove the [:1000] in this line to see the whole parameters.\n",
        "                     # ex: print(t.text)"
      ],
      "execution_count": null,
      "outputs": []
    },
    {
      "cell_type": "code",
      "metadata": {
        "id": "9Kr-L-90UOFi"
      },
      "source": [
        "# LAB 6: HTTP POST\n",
        "# Pusudo code, this doesn't work, please don't execute.\n",
        "\n",
        "firmware_file = 'SC8131-VVTK-0105f.flash.pkg' # No such file\n",
        "url = 'http://' + ip + '/cgi-bin/admin/upgrade.cgi' # Assemble the CGI for firmware upload. \n",
        "files = {'file': (firmware_file, open(firmware_file, 'rb'), 'content-encoding/gzip')} \n",
        "r = requests.post(url, files=files, auth=(account, password), timeout=600)\n",
        "print(r.text) \n",
        "\n",
        "# There are some issues with this code, so it's not recommanded to use.\n",
        "# 1. Sometimes the timeout is too short, in slow network, it takes up to 30min to finish.\n",
        "# 2. Sometimes the connections get interrupted, need automatic retry."
      ],
      "execution_count": null,
      "outputs": []
    },
    {
      "cell_type": "code",
      "metadata": {
        "id": "uOBUQXfZR6C8"
      },
      "source": [
        "# LAB 7: websocket \n",
        "# Install necessary package.\n",
        "!pip3 install websocket-client \n",
        "\n",
        "import websocket\n",
        "try:\n",
        "    import thread\n",
        "except ImportError:\n",
        "    import _thread as thread\n",
        "import time\n",
        "\n",
        "# These functions will be executed when event happened.\n",
        "def on_message(ws, message):\n",
        "    print(message)\n",
        "\n",
        "def on_error(ws, error):\n",
        "    print(error)\n",
        "\n",
        "def on_close(ws, close_status_code, close_msg):\n",
        "    print(\"### closed ###\")\n",
        "\n",
        "def on_open(ws): \n",
        "    # Once the web socket starts this function will be executed.\n",
        "    def run(*args):\n",
        "        for i in range(3):\n",
        "            time.sleep(1)\n",
        "            # Send out Hello # 3 times to the server.\n",
        "            ws.send(\"Hello %d\" % i)\n",
        "        time.sleep(1)\n",
        "        ws.close()\n",
        "        print(\"thread terminating...\")\n",
        "    thread.start_new_thread(run, ())\n",
        "\n",
        "# This is the starting point.\n",
        "if __name__ == \"__main__\": \n",
        "    websocket.enableTrace(True)\n",
        "    ws = websocket.WebSocketApp(\"ws://echo.websocket.org/\",\n",
        "                              on_open=on_open,\n",
        "                              on_message=on_message,\n",
        "                              on_error=on_error,\n",
        "                              on_close=on_close)\n",
        "    ws.run_forever()"
      ],
      "execution_count": null,
      "outputs": []
    },
    {
      "cell_type": "code",
      "metadata": {
        "id": "vI5TjE4kZW1M"
      },
      "source": [
        ""
      ],
      "execution_count": null,
      "outputs": []
    }
  ]
}