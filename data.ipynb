{
  "nbformat": 4,
  "nbformat_minor": 0,
  "metadata": {
    "colab": {
      "name": "data.ipynb",
      "provenance": [],
      "collapsed_sections": [],
      "authorship_tag": "ABX9TyPm7Tpf176BgMBEXsGP0Tcn",
      "include_colab_link": true
    },
    "kernelspec": {
      "name": "python3",
      "display_name": "Python 3"
    },
    "language_info": {
      "name": "python"
    }
  },
  "cells": [
    {
      "cell_type": "markdown",
      "metadata": {
        "id": "view-in-github",
        "colab_type": "text"
      },
      "source": [
        "<a href=\"https://colab.research.google.com/github/jasonsjt/Hello-world/blob/master/data.ipynb\" target=\"_parent\"><img src=\"https://colab.research.google.com/assets/colab-badge.svg\" alt=\"Open In Colab\"/></a>"
      ]
    },
    {
      "cell_type": "code",
      "metadata": {
        "colab": {
          "base_uri": "https://localhost:8080/"
        },
        "id": "JzihuUpjEBHY",
        "outputId": "81d73e96-a490-4f23-f2e3-ba1b09947ad8"
      },
      "source": [
        "# LAB 1: Integer operation\n",
        "a = 1\n",
        "b = 2\n",
        "a + b\n"
      ],
      "execution_count": 1,
      "outputs": [
        {
          "output_type": "execute_result",
          "data": {
            "text/plain": [
              "3"
            ]
          },
          "metadata": {
            "tags": []
          },
          "execution_count": 1
        }
      ]
    },
    {
      "cell_type": "code",
      "metadata": {
        "colab": {
          "base_uri": "https://localhost:8080/",
          "height": 36
        },
        "id": "Tqp-Ctv1FMVZ",
        "outputId": "609d3022-897b-4ecf-e667-d76045b2e05c"
      },
      "source": [
        "# LAB 2: String operation\n",
        "# '' means it's string inside the ''\n",
        "a = '1'  \n",
        "b = '2'\n",
        "a + b"
      ],
      "execution_count": 2,
      "outputs": [
        {
          "output_type": "execute_result",
          "data": {
            "application/vnd.google.colaboratory.intrinsic+json": {
              "type": "string"
            },
            "text/plain": [
              "'12'"
            ]
          },
          "metadata": {
            "tags": []
          },
          "execution_count": 2
        }
      ]
    },
    {
      "cell_type": "code",
      "metadata": {
        "id": "0de_Xmy2FdVJ",
        "colab": {
          "base_uri": "https://localhost:8080/"
        },
        "outputId": "721fd5f6-e238-46d2-837d-70976383afbf"
      },
      "source": [
        "# LAB 3: Datetime operation\n",
        "import datetime\n",
        "\n",
        "# Construct datetime from integer\n",
        "date1 = datetime.datetime(2021, 6, 30, 0, 0, 0)\n",
        "date2 = date1 + datetime.timedelta(days=1)\n",
        "print('From integer to datetime. ', date2) \n",
        "\n",
        "# Construct datetime from string\n",
        "date1 = datetime.datetime.strptime(\"2021-06-30\", \"%Y-%m-%d\")\n",
        "date2 = date1 + datetime.timedelta(days=1) \n",
        "print('From string to datetime. ', date2) "
      ],
      "execution_count": 3,
      "outputs": [
        {
          "output_type": "stream",
          "text": [
            "From integer to datetime.  2021-07-01 00:00:00\n",
            "From string to datetime.  2021-07-01 00:00:00\n"
          ],
          "name": "stdout"
        }
      ]
    },
    {
      "cell_type": "code",
      "metadata": {
        "id": "07Xl8l3spPuM",
        "colab": {
          "base_uri": "https://localhost:8080/",
          "height": 246
        },
        "outputId": "80d31af5-cc80-411f-df27-519e53d7d171"
      },
      "source": [
        "# LAB 4: Datetime operation\n",
        "\n",
        "count1 = 1\n",
        "count2 = 2\n",
        "count3 = 'a'\n",
        "print(count1 + count2) # This will work\n",
        "print(count1 + count3) # This doesn't work, program stop.\n",
        "print(count1 * count2) # This won't be exeuted.  "
      ],
      "execution_count": 5,
      "outputs": [
        {
          "output_type": "stream",
          "text": [
            "3\n"
          ],
          "name": "stdout"
        },
        {
          "output_type": "error",
          "ename": "TypeError",
          "evalue": "ignored",
          "traceback": [
            "\u001b[0;31m---------------------------------------------------------------------------\u001b[0m",
            "\u001b[0;31mTypeError\u001b[0m                                 Traceback (most recent call last)",
            "\u001b[0;32m<ipython-input-5-83b59074f7b8>\u001b[0m in \u001b[0;36m<module>\u001b[0;34m()\u001b[0m\n\u001b[1;32m      5\u001b[0m \u001b[0mcount3\u001b[0m \u001b[0;34m=\u001b[0m \u001b[0;34m'a'\u001b[0m\u001b[0;34m\u001b[0m\u001b[0;34m\u001b[0m\u001b[0m\n\u001b[1;32m      6\u001b[0m \u001b[0mprint\u001b[0m\u001b[0;34m(\u001b[0m\u001b[0mcount1\u001b[0m \u001b[0;34m+\u001b[0m \u001b[0mcount2\u001b[0m\u001b[0;34m)\u001b[0m \u001b[0;31m# This will work\u001b[0m\u001b[0;34m\u001b[0m\u001b[0;34m\u001b[0m\u001b[0m\n\u001b[0;32m----> 7\u001b[0;31m \u001b[0mprint\u001b[0m\u001b[0;34m(\u001b[0m\u001b[0mcount1\u001b[0m \u001b[0;34m+\u001b[0m \u001b[0mcount3\u001b[0m\u001b[0;34m)\u001b[0m \u001b[0;31m# This doesn't work, program stop.\u001b[0m\u001b[0;34m\u001b[0m\u001b[0;34m\u001b[0m\u001b[0m\n\u001b[0m\u001b[1;32m      8\u001b[0m \u001b[0mprint\u001b[0m\u001b[0;34m(\u001b[0m\u001b[0mcount1\u001b[0m \u001b[0;34m*\u001b[0m \u001b[0mcount2\u001b[0m\u001b[0;34m)\u001b[0m \u001b[0;31m# This won't be exeuted.\u001b[0m\u001b[0;34m\u001b[0m\u001b[0;34m\u001b[0m\u001b[0m\n",
            "\u001b[0;31mTypeError\u001b[0m: unsupported operand type(s) for +: 'int' and 'str'"
          ]
        }
      ]
    },
    {
      "cell_type": "code",
      "metadata": {
        "id": "Y1f2WSSbdC_s"
      },
      "source": [
        "# LAB 5: Network GET\n",
        "import requests  # We use a special package in Python\n",
        "from requests.auth import HTTPDigestAuth  # This is used to do digest authentication.\n",
        "\n",
        "ip = '60.251.25.43' \n",
        "account = 'Jason9391'\n",
        "password = 'Jason9391'\n",
        "cgi = '/cgi-bin/admin/getparam.cgi'\n",
        "url = 'http://' + ip + cgi\n",
        "r = requests.get(url, auth=HTTPDigestAuth(account, password)) # Easier then open my browser.        \n",
        "print(r.text[:1000]) # Because the result is quite long, so I only show the first 1000 char\n",
        "                     # you can remove the [:1000] in this line to see the whole parameters.\n",
        "                     # ex: print(t.text)"
      ],
      "execution_count": null,
      "outputs": []
    },
    {
      "cell_type": "code",
      "metadata": {
        "id": "1scM6fmmMk5l",
        "outputId": "bcee0416-bd8d-4ed2-8ce9-2d6ea3095a06",
        "colab": {
          "base_uri": "https://localhost:8080/"
        }
      },
      "source": [
        "# LAB 6: Websocket \n",
        "!pip3 install websocket-client\n",
        "!pip3 install websockets"
      ],
      "execution_count": 15,
      "outputs": [
        {
          "output_type": "stream",
          "text": [
            "Requirement already satisfied: websocket-client in /usr/local/lib/python3.7/dist-packages (1.1.0)\n",
            "Collecting websockets\n",
            "\u001b[?25l  Downloading https://files.pythonhosted.org/packages/84/64/78c2b3fe37730b30dca3c93d1f7f4a4286767f86e7c04cf3571b39bc2fb7/websockets-9.1-cp37-cp37m-manylinux2010_x86_64.whl (103kB)\n",
            "\u001b[K     |████████████████████████████████| 112kB 4.2MB/s \n",
            "\u001b[?25hInstalling collected packages: websockets\n",
            "Successfully installed websockets-9.1\n"
          ],
          "name": "stdout"
        }
      ]
    },
    {
      "cell_type": "code",
      "metadata": {
        "id": "uOBUQXfZR6C8",
        "outputId": "74399a77-773e-44d7-f8c0-41bae7c0dfe2",
        "colab": {
          "base_uri": "https://localhost:8080/"
        }
      },
      "source": [
        "import websocket\n",
        "try:\n",
        "    import thread\n",
        "except ImportError:\n",
        "    import _thread as thread\n",
        "import time\n",
        "\n",
        "def on_message(ws, message):\n",
        "    print(message)\n",
        "\n",
        "def on_error(ws, error):\n",
        "    print(error)\n",
        "\n",
        "def on_close(ws, close_status_code, close_msg):\n",
        "    print(\"### closed ###\")\n",
        "\n",
        "def on_open(ws):\n",
        "    def run(*args):\n",
        "        for i in range(3):\n",
        "            time.sleep(1)\n",
        "            ws.send(\"Hello %d\" % i)\n",
        "        time.sleep(1)\n",
        "        ws.close()\n",
        "        print(\"thread terminating...\")\n",
        "    thread.start_new_thread(run, ())\n",
        "\n",
        "if __name__ == \"__main__\":\n",
        "    websocket.enableTrace(True)\n",
        "    ws = websocket.WebSocketApp(\"ws://{}:80/\".format(ip),\n",
        "                              on_open=on_open,\n",
        "                              on_message=on_message,\n",
        "                              on_error=on_error,\n",
        "                              on_close=on_close)\n",
        "    # ws = websocket.WebSocketApp(\"ws://echo.websocket.org/\",\n",
        "    #                           on_open=on_open,\n",
        "    #                           on_message=on_message,\n",
        "    #                           on_error=on_error,\n",
        "    #                           on_close=on_close)\n",
        "\n",
        "    ws.run_forever()"
      ],
      "execution_count": 19,
      "outputs": [
        {
          "output_type": "stream",
          "text": [
            "--- request header ---\n",
            "GET / HTTP/1.1\n",
            "Upgrade: websocket\n",
            "Host: 60.251.25.43\n",
            "Origin: http://60.251.25.43\n",
            "Sec-WebSocket-Key: q36w+2KomVNKbvfIsossbQ==\n",
            "Sec-WebSocket-Version: 13\n",
            "Connection: Upgrade\n",
            "\n",
            "\n",
            "-----------------------\n",
            "--- response header ---\n",
            "HTTP/1.1 200 OK\n",
            "Date: Mon, 21 Jun 2021 08:24:01 GMT\n",
            "Server: Web Server\n",
            "Accept-Ranges: bytes\n",
            "X-Content-Type-Options: nosniff\n",
            "Connection: close\n",
            "Content-Length: 2399\n",
            "Last-Modified: Wed, 30 Sep 2020 03:49:08 GMT\n",
            "Content-Type: text/html\n",
            "-----------------------\n"
          ],
          "name": "stderr"
        },
        {
          "output_type": "stream",
          "text": [
            "Handshake status 200 OK\n",
            "### closed ###\n"
          ],
          "name": "stdout"
        }
      ]
    },
    {
      "cell_type": "code",
      "metadata": {
        "id": "gU-3Hzu8SM6o",
        "outputId": "5eb05a76-ecca-40a3-ca2a-33c86161d04b",
        "colab": {
          "base_uri": "https://localhost:8080/",
          "height": 362
        }
      },
      "source": [
        "import asyncio\n",
        "import websockets\n",
        "import argparse\n",
        "\n",
        "\n",
        "async def hello(ip):\n",
        "    uri = ip\n",
        "    while True:\n",
        "        async with websockets.connect(uri) as websocket:\n",
        "            receive = await websocket.recv()\n",
        "            print(f\"< {receive}\")\n",
        "\n",
        "\n",
        "async def hello2(ip):\n",
        "    uri = ip\n",
        "    while True:\n",
        "        async with websockets.connect(uri, Subprotocol=[\"tracker-protocol\"],) as websocket:\n",
        "            receive = await websocket.recv()\n",
        "            print(f\"< {receive}\")\n",
        "\n",
        "\n",
        "if __name__ == '__main__': \n",
        "    asyncio.get_event_loop().run_until_complete(hello('60.251.25.43'))"
      ],
      "execution_count": 20,
      "outputs": [
        {
          "output_type": "error",
          "ename": "RuntimeError",
          "evalue": "ignored",
          "traceback": [
            "\u001b[0;31m---------------------------------------------------------------------------\u001b[0m",
            "\u001b[0;31mRuntimeError\u001b[0m                              Traceback (most recent call last)",
            "\u001b[0;32m<ipython-input-20-95e65bd543e9>\u001b[0m in \u001b[0;36m<module>\u001b[0;34m()\u001b[0m\n\u001b[1;32m     21\u001b[0m \u001b[0;34m\u001b[0m\u001b[0m\n\u001b[1;32m     22\u001b[0m \u001b[0;32mif\u001b[0m \u001b[0m__name__\u001b[0m \u001b[0;34m==\u001b[0m \u001b[0;34m'__main__'\u001b[0m\u001b[0;34m:\u001b[0m\u001b[0;34m\u001b[0m\u001b[0;34m\u001b[0m\u001b[0m\n\u001b[0;32m---> 23\u001b[0;31m     \u001b[0masyncio\u001b[0m\u001b[0;34m.\u001b[0m\u001b[0mget_event_loop\u001b[0m\u001b[0;34m(\u001b[0m\u001b[0;34m)\u001b[0m\u001b[0;34m.\u001b[0m\u001b[0mrun_until_complete\u001b[0m\u001b[0;34m(\u001b[0m\u001b[0mhello\u001b[0m\u001b[0;34m(\u001b[0m\u001b[0;34m'60.251.25.43'\u001b[0m\u001b[0;34m)\u001b[0m\u001b[0;34m)\u001b[0m\u001b[0;34m\u001b[0m\u001b[0;34m\u001b[0m\u001b[0m\n\u001b[0m",
            "\u001b[0;32m/usr/lib/python3.7/asyncio/base_events.py\u001b[0m in \u001b[0;36mrun_until_complete\u001b[0;34m(self, future)\u001b[0m\n\u001b[1;32m    561\u001b[0m         \"\"\"\n\u001b[1;32m    562\u001b[0m         \u001b[0mself\u001b[0m\u001b[0;34m.\u001b[0m\u001b[0m_check_closed\u001b[0m\u001b[0;34m(\u001b[0m\u001b[0;34m)\u001b[0m\u001b[0;34m\u001b[0m\u001b[0;34m\u001b[0m\u001b[0m\n\u001b[0;32m--> 563\u001b[0;31m         \u001b[0mself\u001b[0m\u001b[0;34m.\u001b[0m\u001b[0m_check_runnung\u001b[0m\u001b[0;34m(\u001b[0m\u001b[0;34m)\u001b[0m\u001b[0;34m\u001b[0m\u001b[0;34m\u001b[0m\u001b[0m\n\u001b[0m\u001b[1;32m    564\u001b[0m \u001b[0;34m\u001b[0m\u001b[0m\n\u001b[1;32m    565\u001b[0m         \u001b[0mnew_task\u001b[0m \u001b[0;34m=\u001b[0m \u001b[0;32mnot\u001b[0m \u001b[0mfutures\u001b[0m\u001b[0;34m.\u001b[0m\u001b[0misfuture\u001b[0m\u001b[0;34m(\u001b[0m\u001b[0mfuture\u001b[0m\u001b[0;34m)\u001b[0m\u001b[0;34m\u001b[0m\u001b[0;34m\u001b[0m\u001b[0m\n",
            "\u001b[0;32m/usr/lib/python3.7/asyncio/base_events.py\u001b[0m in \u001b[0;36m_check_runnung\u001b[0;34m(self)\u001b[0m\n\u001b[1;32m    521\u001b[0m     \u001b[0;32mdef\u001b[0m \u001b[0m_check_runnung\u001b[0m\u001b[0;34m(\u001b[0m\u001b[0mself\u001b[0m\u001b[0;34m)\u001b[0m\u001b[0;34m:\u001b[0m\u001b[0;34m\u001b[0m\u001b[0;34m\u001b[0m\u001b[0m\n\u001b[1;32m    522\u001b[0m         \u001b[0;32mif\u001b[0m \u001b[0mself\u001b[0m\u001b[0;34m.\u001b[0m\u001b[0mis_running\u001b[0m\u001b[0;34m(\u001b[0m\u001b[0;34m)\u001b[0m\u001b[0;34m:\u001b[0m\u001b[0;34m\u001b[0m\u001b[0;34m\u001b[0m\u001b[0m\n\u001b[0;32m--> 523\u001b[0;31m             \u001b[0;32mraise\u001b[0m \u001b[0mRuntimeError\u001b[0m\u001b[0;34m(\u001b[0m\u001b[0;34m'This event loop is already running'\u001b[0m\u001b[0;34m)\u001b[0m\u001b[0;34m\u001b[0m\u001b[0;34m\u001b[0m\u001b[0m\n\u001b[0m\u001b[1;32m    524\u001b[0m         \u001b[0;32mif\u001b[0m \u001b[0mevents\u001b[0m\u001b[0;34m.\u001b[0m\u001b[0m_get_running_loop\u001b[0m\u001b[0;34m(\u001b[0m\u001b[0;34m)\u001b[0m \u001b[0;32mis\u001b[0m \u001b[0;32mnot\u001b[0m \u001b[0;32mNone\u001b[0m\u001b[0;34m:\u001b[0m\u001b[0;34m\u001b[0m\u001b[0;34m\u001b[0m\u001b[0m\n\u001b[1;32m    525\u001b[0m             raise RuntimeError(\n",
            "\u001b[0;31mRuntimeError\u001b[0m: This event loop is already running"
          ]
        }
      ]
    },
    {
      "cell_type": "code",
      "metadata": {
        "id": "vI5TjE4kZW1M"
      },
      "source": [
        ""
      ],
      "execution_count": null,
      "outputs": []
    }
  ]
}