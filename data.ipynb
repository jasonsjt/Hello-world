{
  "nbformat": 4,
  "nbformat_minor": 0,
  "metadata": {
    "colab": {
      "name": "data.ipynb",
      "provenance": [],
      "collapsed_sections": [],
      "authorship_tag": "ABX9TyNGPfyOGgWygpu3vt15Dx1M",
      "include_colab_link": true
    },
    "kernelspec": {
      "name": "python3",
      "display_name": "Python 3"
    },
    "language_info": {
      "name": "python"
    }
  },
  "cells": [
    {
      "cell_type": "markdown",
      "metadata": {
        "id": "view-in-github",
        "colab_type": "text"
      },
      "source": [
        "<a href=\"https://colab.research.google.com/github/jasonsjt/Hello-world/blob/master/data.ipynb\" target=\"_parent\"><img src=\"https://colab.research.google.com/assets/colab-badge.svg\" alt=\"Open In Colab\"/></a>"
      ]
    },
    {
      "cell_type": "code",
      "metadata": {
        "colab": {
          "base_uri": "https://localhost:8080/"
        },
        "id": "JzihuUpjEBHY",
        "outputId": "81d73e96-a490-4f23-f2e3-ba1b09947ad8"
      },
      "source": [
        "# LAB 1: Integer operation\n",
        "a = 1\n",
        "b = 2\n",
        "a + b\n"
      ],
      "execution_count": 1,
      "outputs": [
        {
          "output_type": "execute_result",
          "data": {
            "text/plain": [
              "3"
            ]
          },
          "metadata": {
            "tags": []
          },
          "execution_count": 1
        }
      ]
    },
    {
      "cell_type": "code",
      "metadata": {
        "colab": {
          "base_uri": "https://localhost:8080/",
          "height": 36
        },
        "id": "Tqp-Ctv1FMVZ",
        "outputId": "609d3022-897b-4ecf-e667-d76045b2e05c"
      },
      "source": [
        "# LAB 2: String operation\n",
        "# '' means it's string inside the ''\n",
        "a = '1'  \n",
        "b = '2'\n",
        "a + b"
      ],
      "execution_count": 2,
      "outputs": [
        {
          "output_type": "execute_result",
          "data": {
            "application/vnd.google.colaboratory.intrinsic+json": {
              "type": "string"
            },
            "text/plain": [
              "'12'"
            ]
          },
          "metadata": {
            "tags": []
          },
          "execution_count": 2
        }
      ]
    },
    {
      "cell_type": "code",
      "metadata": {
        "id": "0de_Xmy2FdVJ",
        "colab": {
          "base_uri": "https://localhost:8080/"
        },
        "outputId": "721fd5f6-e238-46d2-837d-70976383afbf"
      },
      "source": [
        "# LAB 3: Datetime operation\n",
        "import datetime\n",
        "\n",
        "# Construct datetime from integer\n",
        "date1 = datetime.datetime(2021, 6, 30, 0, 0, 0)\n",
        "date2 = date1 + datetime.timedelta(days=1)\n",
        "print('From integer to datetime. ', date2) \n",
        "\n",
        "# Construct datetime from string\n",
        "date1 = datetime.datetime.strptime(\"2021-06-30\", \"%Y-%m-%d\")\n",
        "date2 = date1 + datetime.timedelta(days=1) \n",
        "print('From string to datetime. ', date2) "
      ],
      "execution_count": 3,
      "outputs": [
        {
          "output_type": "stream",
          "text": [
            "From integer to datetime.  2021-07-01 00:00:00\n",
            "From string to datetime.  2021-07-01 00:00:00\n"
          ],
          "name": "stdout"
        }
      ]
    },
    {
      "cell_type": "code",
      "metadata": {
        "id": "07Xl8l3spPuM",
        "colab": {
          "base_uri": "https://localhost:8080/",
          "height": 246
        },
        "outputId": "80d31af5-cc80-411f-df27-519e53d7d171"
      },
      "source": [
        "# LAB 4: Datetime operation\n",
        "\n",
        "count1 = 1\n",
        "count2 = 2\n",
        "count3 = 'a'\n",
        "print(count1 + count2) # This will work\n",
        "print(count1 + count3) # This doesn't work, program stop.\n",
        "print(count1 * count2) # This won't be exeuted.  "
      ],
      "execution_count": 5,
      "outputs": [
        {
          "output_type": "stream",
          "text": [
            "3\n"
          ],
          "name": "stdout"
        },
        {
          "output_type": "error",
          "ename": "TypeError",
          "evalue": "ignored",
          "traceback": [
            "\u001b[0;31m---------------------------------------------------------------------------\u001b[0m",
            "\u001b[0;31mTypeError\u001b[0m                                 Traceback (most recent call last)",
            "\u001b[0;32m<ipython-input-5-83b59074f7b8>\u001b[0m in \u001b[0;36m<module>\u001b[0;34m()\u001b[0m\n\u001b[1;32m      5\u001b[0m \u001b[0mcount3\u001b[0m \u001b[0;34m=\u001b[0m \u001b[0;34m'a'\u001b[0m\u001b[0;34m\u001b[0m\u001b[0;34m\u001b[0m\u001b[0m\n\u001b[1;32m      6\u001b[0m \u001b[0mprint\u001b[0m\u001b[0;34m(\u001b[0m\u001b[0mcount1\u001b[0m \u001b[0;34m+\u001b[0m \u001b[0mcount2\u001b[0m\u001b[0;34m)\u001b[0m \u001b[0;31m# This will work\u001b[0m\u001b[0;34m\u001b[0m\u001b[0;34m\u001b[0m\u001b[0m\n\u001b[0;32m----> 7\u001b[0;31m \u001b[0mprint\u001b[0m\u001b[0;34m(\u001b[0m\u001b[0mcount1\u001b[0m \u001b[0;34m+\u001b[0m \u001b[0mcount3\u001b[0m\u001b[0;34m)\u001b[0m \u001b[0;31m# This doesn't work, program stop.\u001b[0m\u001b[0;34m\u001b[0m\u001b[0;34m\u001b[0m\u001b[0m\n\u001b[0m\u001b[1;32m      8\u001b[0m \u001b[0mprint\u001b[0m\u001b[0;34m(\u001b[0m\u001b[0mcount1\u001b[0m \u001b[0;34m*\u001b[0m \u001b[0mcount2\u001b[0m\u001b[0;34m)\u001b[0m \u001b[0;31m# This won't be exeuted.\u001b[0m\u001b[0;34m\u001b[0m\u001b[0;34m\u001b[0m\u001b[0m\n",
            "\u001b[0;31mTypeError\u001b[0m: unsupported operand type(s) for +: 'int' and 'str'"
          ]
        }
      ]
    },
    {
      "cell_type": "code",
      "metadata": {
        "id": "Y1f2WSSbdC_s"
      },
      "source": [
        ""
      ],
      "execution_count": null,
      "outputs": []
    }
  ]
}