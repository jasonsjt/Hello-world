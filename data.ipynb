{
  "nbformat": 4,
  "nbformat_minor": 0,
  "metadata": {
    "colab": {
      "name": "data.ipynb",
      "provenance": [],
      "collapsed_sections": [],
      "authorship_tag": "ABX9TyPyssnTD9pMGVTWBr1j3j7B",
      "include_colab_link": true
    },
    "kernelspec": {
      "name": "python3",
      "display_name": "Python 3"
    },
    "language_info": {
      "name": "python"
    }
  },
  "cells": [
    {
      "cell_type": "markdown",
      "metadata": {
        "id": "view-in-github",
        "colab_type": "text"
      },
      "source": [
        "<a href=\"https://colab.research.google.com/github/jasonsjt/Hello-world/blob/master/data.ipynb\" target=\"_parent\"><img src=\"https://colab.research.google.com/assets/colab-badge.svg\" alt=\"Open In Colab\"/></a>"
      ]
    },
    {
      "cell_type": "code",
      "metadata": {
        "colab": {
          "base_uri": "https://localhost:8080/"
        },
        "id": "JzihuUpjEBHY",
        "outputId": "5f4e03dd-5524-46fd-e161-640f0db6790a"
      },
      "source": [
        "# LAB 1: Integer operation\n",
        "a = 1\n",
        "b = 2\n",
        "a + b\n"
      ],
      "execution_count": null,
      "outputs": [
        {
          "output_type": "execute_result",
          "data": {
            "text/plain": [
              "3"
            ]
          },
          "metadata": {
            "tags": []
          },
          "execution_count": 1
        }
      ]
    },
    {
      "cell_type": "code",
      "metadata": {
        "colab": {
          "base_uri": "https://localhost:8080/",
          "height": 36
        },
        "id": "Tqp-Ctv1FMVZ",
        "outputId": "90ff6154-ffb8-4a23-8c8c-b33ca51be5d6"
      },
      "source": [
        "# LAB 2: String operation\n",
        "# '' means it's string inside the ''\n",
        "a = '1'  \n",
        "b = '2'\n",
        "a + b"
      ],
      "execution_count": null,
      "outputs": [
        {
          "output_type": "execute_result",
          "data": {
            "application/vnd.google.colaboratory.intrinsic+json": {
              "type": "string"
            },
            "text/plain": [
              "'12'"
            ]
          },
          "metadata": {
            "tags": []
          },
          "execution_count": 2
        }
      ]
    },
    {
      "cell_type": "code",
      "metadata": {
        "id": "0de_Xmy2FdVJ",
        "colab": {
          "base_uri": "https://localhost:8080/"
        },
        "outputId": "6e8022f8-21e0-4111-fac5-a2200dc3eee3"
      },
      "source": [
        "# LAB 3: Datetime operation\n",
        "import datetime\n",
        "\n",
        "# Construct datetime from integer\n",
        "date1 = datetime.datetime(2021, 6, 30, 0, 0, 0)\n",
        "date2 = date1 + datetime.timedelta(days=1)\n",
        "print('From integer to datetime. ', date2) \n",
        "\n",
        "# Construct datetime from string\n",
        "date1 = datetime.datetime.strptime(\"2021-06-30\", \"%Y-%m-%d\")\n",
        "date2 = date1 + datetime.timedelta(days=1) \n",
        "print('From string to datetime. ', date2) "
      ],
      "execution_count": null,
      "outputs": [
        {
          "output_type": "stream",
          "text": [
            "From integer to datetime.  2021-07-01 00:00:00\n",
            "From string to datetime.  2021-07-01 00:00:00\n"
          ],
          "name": "stdout"
        }
      ]
    },
    {
      "cell_type": "code",
      "metadata": {
        "id": "07Xl8l3spPuM"
      },
      "source": [
        ""
      ],
      "execution_count": null,
      "outputs": []
    }
  ]
}